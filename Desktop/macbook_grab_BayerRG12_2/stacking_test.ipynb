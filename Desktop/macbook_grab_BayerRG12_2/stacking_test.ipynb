{
 "cells": [
  {
   "cell_type": "markdown",
   "metadata": {},
   "source": [
    "# Image Stacking Test Playground\n",
    "This file is a test center for stacking images. The purpose of image stacking is to enhance details by averaging out noise with multiple captures. The goal is to decide whether this will be a useful tool in our machine vision toolkit."
   ]
  },
  {
   "cell_type": "markdown",
   "metadata": {},
   "source": [
    "### Import Libraries"
   ]
  },
  {
   "cell_type": "code",
   "execution_count": 67,
   "metadata": {},
   "outputs": [],
   "source": [
    "import numpy as np\n",
    "import matplotlib.pyplot as plt\n",
    "import scipy as sc\n",
    "import os\n",
    "from skimage import io, img_as_ubyte"
   ]
  },
  {
   "cell_type": "markdown",
   "metadata": {},
   "source": [
    "### Define Variables"
   ]
  },
  {
   "cell_type": "code",
   "execution_count": 75,
   "metadata": {},
   "outputs": [],
   "source": [
    "path01 = '/home/unitx/Desktop/images_capture/outerring_103us'\n",
    "path02 = '/home/unitx/Desktop/images_capture/innerring_103us'\n",
    "path03 = '/home/unitx/Desktop/images_capture/inner_outer_103us'\n",
    "\n",
    "# raw_image01 = io.imread('01/Basler_a2A5328-15ucPRO__40230347__20241111_155016564_0000.tiff')\n",
    "darkframe = io.imread('stackshield_white_part_DF.png')"
   ]
  },
  {
   "cell_type": "markdown",
   "metadata": {},
   "source": [
    "### Functions"
   ]
  },
  {
   "cell_type": "code",
   "execution_count": 69,
   "metadata": {},
   "outputs": [],
   "source": [
    "def stacker(directory):\n",
    "    images = []\n",
    "    for filename in os.listdir(directory):\n",
    "        file_path = os.path.join(directory, filename)\n",
    "        # Check if it's an image file by extension (you can adjust as needed)\n",
    "        if filename.lower().endswith(('.png', '.jpg', '.jpeg', '.bmp', '.tiff')):\n",
    "            img0 = io.imread(file_path)\n",
    "            img = img0 - darkframe\n",
    "            images.append(img)\n",
    "    # Stack images along a new axis to create a 4D array (num_images, height, width, channels)\n",
    "    stacked_images = np.stack(images, axis=0)\n",
    "    # print(stacked_images.shape)\n",
    "    # Calculate the mean across the first axis (i.e., across all images)\n",
    "    mean_image = np.mean(stacked_images, axis=0).astype(np.uint16)\n",
    "    # print(mean_image.shape)\n",
    "    return mean_image"
   ]
  },
  {
   "cell_type": "code",
   "execution_count": 106,
   "metadata": {},
   "outputs": [],
   "source": [
    "def stacker(directory):\n",
    "    images01 = []\n",
    "    images02 = []\n",
    "    for filename in os.listdir(directory):\n",
    "        file_path = os.path.join(directory, filename)\n",
    "        # Check if it's an image file by extension (you can adjust as needed)\n",
    "        if 'outer' in filename.lower():\n",
    "            img0 = io.imread(file_path)\n",
    "            img = img0 - darkframe\n",
    "            images01.append(img)\n",
    "        elif 'inner' in filename.lower():\n",
    "            img0 = io.imread(file_path)\n",
    "            img = img0 - darkframe\n",
    "            images02.append(img)\n",
    "    # Stack images along a new axis to create a 4D array (num_images, height, width, channels)\n",
    "    stacked_images01 = np.stack(images01, axis=0)\n",
    "    stacked_images02 = np.stack(images02, axis=0)\n",
    "    stacked_images02 = stacked_images02+100\n",
    "    # Calculate the mean across the first axis (i.e., across all images)\n",
    "    mean_image01 = np.mean(stacked_images01, axis=0).astype(np.uint16)\n",
    "    mean_image02 = np.mean(stacked_images02, axis=0).astype(np.uint16)\n",
    "    return mean_image01, mean_image02"
   ]
  },
  {
   "cell_type": "code",
   "execution_count": 107,
   "metadata": {},
   "outputs": [
    {
     "name": "stdout",
     "output_type": "stream",
     "text": [
      "[[26.03819444 29.03993056 22.20833333]\n",
      " [26.26627604 29.04557292 22.20833333]\n",
      " [26.26627604 29.04231771 22.33420139]\n",
      " ...\n",
      " [27.55946181 29.38932292 23.62521701]\n",
      " [27.55946181 29.36827257 23.49262153]\n",
      " [ 0.77213542  0.99544271  0.44010417]]\n",
      "[[109.92230903 117.80642361 107.23459201]\n",
      " [110.09765625 117.83897569 107.23459201]\n",
      " [110.09765625 117.85915799 107.45659722]\n",
      " ...\n",
      " [111.22200521 117.66731771 108.27669271]\n",
      " [111.22200521 117.66189236 108.24153646]\n",
      " [ 99.99435764  99.99544271  99.99565972]]\n",
      "255\n",
      "254\n"
     ]
    }
   ],
   "source": [
    "m1, m2 = stacker(path03)\n",
    "\n",
    "print(np.mean(m1,axis=0))\n",
    "print(np.mean(m2,axis=0))\n",
    "\n",
    "print(np.max(m1))\n",
    "print(np.max(m2))"
   ]
  },
  {
   "cell_type": "code",
   "execution_count": null,
   "metadata": {},
   "outputs": [],
   "source": []
  },
  {
   "cell_type": "code",
   "execution_count": 70,
   "metadata": {},
   "outputs": [],
   "source": [
    "def stacker2(directory, batch_size=100):\n",
    "    file_list = [os.path.join(directory, f) for f in os.listdir(directory) \n",
    "                 if f.lower().endswith(('.png', '.jpg', '.jpeg', '.bmp', '.tiff'))]\n",
    "    num_files = len(file_list)\n",
    "    cumulative_image = None\n",
    "    count = 0\n",
    "\n",
    "    for i in range(0, num_files, batch_size):\n",
    "        batch_files = file_list[i:i + batch_size]\n",
    "        batch_images = []\n",
    "\n",
    "        for file_path in batch_files:\n",
    "            img0 = io.imread(file_path)\n",
    "            img = img0 #- darkframe\n",
    "            batch_images.append(img)\n",
    "        \n",
    "        batch_stack = np.stack(batch_images, axis=0)\n",
    "        batch_mean = np.median(batch_stack, axis=0)\n",
    "        \n",
    "        if cumulative_image is None:\n",
    "            cumulative_image = batch_mean\n",
    "        else:\n",
    "            cumulative_image = (cumulative_image * count + batch_mean * len(batch_files)) / (count + len(batch_files))\n",
    "        \n",
    "        count += len(batch_files)\n",
    "    \n",
    "    return cumulative_image"
   ]
  },
  {
   "cell_type": "code",
   "execution_count": 71,
   "metadata": {},
   "outputs": [],
   "source": [
    "def subtractor(filename, darkframe):\n",
    "    img0 = io.imread(f'{path02}/{filename}')\n",
    "    img = img0 - darkframe\n",
    "    return img\n",
    "    "
   ]
  },
  {
   "cell_type": "markdown",
   "metadata": {},
   "source": [
    "### Tests"
   ]
  },
  {
   "cell_type": "code",
   "execution_count": 72,
   "metadata": {},
   "outputs": [
    {
     "name": "stdout",
     "output_type": "stream",
     "text": [
      "[[[ 7.4  14.65  4.45]\n",
      "  [ 6.2  14.65  4.45]\n",
      "  [ 6.2  14.75  4.5 ]\n",
      "  ...\n",
      "  [ 5.85 18.15  7.25]\n",
      "  [ 5.85 17.3   5.95]\n",
      "  [ 0.    0.    0.  ]]\n",
      "\n",
      " [[ 4.6  16.2   4.45]\n",
      "  [ 3.75 16.25  4.45]\n",
      "  [ 3.75 15.1   4.5 ]\n",
      "  ...\n",
      "  [ 8.35 18.85  7.25]\n",
      "  [ 8.35 18.6   5.95]\n",
      "  [ 0.    0.    0.  ]]\n",
      "\n",
      " [[ 4.6  15.5   5.3 ]\n",
      "  [ 3.75 14.95  5.3 ]\n",
      "  [ 3.75 14.    4.95]\n",
      "  ...\n",
      "  [ 8.35 18.25  7.15]\n",
      "  [ 8.35 18.    7.05]\n",
      "  [ 0.    0.    0.  ]]\n",
      "\n",
      " ...\n",
      "\n",
      " [[ 4.9  14.2   3.  ]\n",
      "  [ 4.65 14.45  3.  ]\n",
      "  [ 4.65 12.15  4.  ]\n",
      "  ...\n",
      "  [ 4.35 12.75  2.3 ]\n",
      "  [ 4.35 12.    2.8 ]\n",
      "  [ 0.    0.    0.  ]]\n",
      "\n",
      " [[ 4.9  14.3   0.75]\n",
      "  [ 4.65 15.    0.75]\n",
      "  [ 4.65 12.55  3.35]\n",
      "  ...\n",
      "  [ 4.35 13.25  3.5 ]\n",
      "  [ 4.35 12.6   5.05]\n",
      "  [ 0.    0.    0.  ]]\n",
      "\n",
      " [[ 0.    0.    0.  ]\n",
      "  [ 0.    0.    0.  ]\n",
      "  [ 0.    0.    0.  ]\n",
      "  ...\n",
      "  [ 0.    0.    0.  ]\n",
      "  [ 0.    0.    0.  ]\n",
      "  [ 0.    0.    0.  ]]]\n"
     ]
    }
   ],
   "source": [
    "image01 = stacker2(path01)\n",
    "# print(image01)\n",
    "# imageX = subtractor('Basler_a2A5328-15ucPRO__40230347__20241111_170449883_0004.tiff',darkframe)\n",
    "\n",
    "# fig1, axes1 = plt.subplots(1, 2, figsize=(33, 18), gridspec_kw={'width_ratios': [1, 1]})\n",
    "\n",
    "# im1 = axes1[0].imshow(raw_image01, vmin=0, vmax=4095)\n",
    "# axes1[0].set_title('raw_image')\n",
    "\n",
    "# im2 = axes1[1].imshow(image01.astype(int), vmin=0, vmax=4095)\n",
    "# axes1[1].set_title('stacked_image')\n",
    "\n",
    "# plt.show()"
   ]
  },
  {
   "cell_type": "markdown",
   "metadata": {},
   "source": [
    "### Save Images"
   ]
  },
  {
   "cell_type": "code",
   "execution_count": 100,
   "metadata": {},
   "outputs": [],
   "source": [
    "def save_as_png(array, filename):\n",
    "    normalized_array = (array - np.min(array)) / (np.max(array) - np.min(array))\n",
    "    uint8_array = img_as_ubyte(normalized_array)\n",
    "    \n",
    "    io.imsave(filename, uint8_array)\n",
    "\n",
    "save_as_png(image01, f'stackshield_mean_dandybridge02.png')\n",
    "# save_as_png(imageX, f'Subtractbook_12bit_{path02}.png')"
   ]
  },
  {
   "cell_type": "code",
   "execution_count": 108,
   "metadata": {},
   "outputs": [],
   "source": [
    "save_as_png(m1 + m2, f'stackbridge_weird_01.png')"
   ]
  }
 ],
 "metadata": {
  "kernelspec": {
   "display_name": "unified_production",
   "language": "python",
   "name": "python3"
  },
  "language_info": {
   "codemirror_mode": {
    "name": "ipython",
    "version": 3
   },
   "file_extension": ".py",
   "mimetype": "text/x-python",
   "name": "python",
   "nbconvert_exporter": "python",
   "pygments_lexer": "ipython3",
   "version": "3.11.8"
  }
 },
 "nbformat": 4,
 "nbformat_minor": 2
}
